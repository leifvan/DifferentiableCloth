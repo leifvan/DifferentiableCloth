{
 "cells": [
  {
   "cell_type": "code",
   "execution_count": null,
   "metadata": {},
   "outputs": [
    {
     "ename": "Error",
     "evalue": "Session cannot generate requests",
     "output_type": "error",
     "traceback": [
      "Error: Session cannot generate requests",
      "at S.executeCodeCell (/home/ruben/.vscode/extensions/ms-toolsai.jupyter-2021.10.1101450599/out/client/extension.js:66:301742)",
      "at S.execute (/home/ruben/.vscode/extensions/ms-toolsai.jupyter-2021.10.1101450599/out/client/extension.js:66:300732)",
      "at S.start (/home/ruben/.vscode/extensions/ms-toolsai.jupyter-2021.10.1101450599/out/client/extension.js:66:296408)",
      "at processTicksAndRejections (internal/process/task_queues.js:93:5)",
      "at async t.CellExecutionQueue.executeQueuedCells (/home/ruben/.vscode/extensions/ms-toolsai.jupyter-2021.10.1101450599/out/client/extension.js:66:312326)",
      "at async t.CellExecutionQueue.start (/home/ruben/.vscode/extensions/ms-toolsai.jupyter-2021.10.1101450599/out/client/extension.js:66:311862)"
     ]
    }
   ],
   "source": [
    "import torch\n",
    "import arcsim\n",
    "import sys\n",
    "import json\n",
    "\n",
    "\n"
   ]
  },
  {
   "cell_type": "code",
   "execution_count": null,
   "metadata": {},
   "outputs": [],
   "source": [
    "def reset_sim(sim):\n",
    "\tarcsim.init_physics('curconf.json','',False)\n",
    "\tg = sim.gravity\n",
    "\tg.requires_grad = True\n",
    "\treturn g\n",
    "\n",
    "def run_sim():\n",
    "\tfor step in range(49):\n",
    "\t\tarcsim.sim_step()\n",
    "\n",
    "def save_config(config, file):\n",
    "\twith open(file,'w') as f:\n",
    "\t\tjson.dump(config, f)\n",
    "\n",
    "\n",
    "def to_mesh(vertices, faces):\n",
    "\tpass\n"
   ]
  },
  {
   "cell_type": "code",
   "execution_count": null,
   "metadata": {},
   "outputs": [],
   "source": [
    "sys.path.append('../pysim')\n",
    "\n",
    "with open(\"real/S1/sim_conf.json\") as file:\n",
    "    config = json.load(file)\n",
    "save_config(config, 'curconf.json')"
   ]
  },
  {
   "cell_type": "code",
   "execution_count": null,
   "metadata": {},
   "outputs": [
    {
     "data": {
      "text/plain": [
       "{'frame_time': 0.1,\n",
       " 'frame_steps': 2,\n",
       " 'end_time': 30,\n",
       " 'cloths': [{'mesh': '/home/ruben/Documents/Computer_Graphics_Lab/DifferentiableCloth/lab/real/S1/templates/template_mesh_final_untextured_unposed.obj',\n",
       "   'transform': {'translate': [-0.4198516011238098,\n",
       "     0.12260060012340546,\n",
       "     1.2431522607803345],\n",
       "    'rotate': [7.382217865337875,\n",
       "     -0.21830713748931885,\n",
       "     0.9743584990501404,\n",
       "     -0.05447361245751381]},\n",
       "   'materials': [{'data': '',\n",
       "     'stretching_mult': 0.001,\n",
       "     'bending_mult': 10000.0,\n",
       "     'thicken': 2}],\n",
       "   'remeshing': {'refine_angle': 0.3,\n",
       "    'refine_compression': 0.01,\n",
       "    'refine_velocity': 1,\n",
       "    'size': [0.02, 0.5],\n",
       "    'aspect_min': 0.2}}],\n",
       " 'handles': [{'nodes': []}],\n",
       " 'gravity': [0, 0, 0],\n",
       " 'wind': {'velocity': [0, 0, 0]},\n",
       " 'magic': {'repulsion_thickness': 0.01, 'collision_stiffness': 1000000.0},\n",
       " 'disable': ['remeshing']}"
      ]
     },
     "execution_count": 4,
     "metadata": {},
     "output_type": "execute_result"
    }
   ],
   "source": [
    "config"
   ]
  },
  {
   "cell_type": "code",
   "execution_count": null,
   "metadata": {},
   "outputs": [],
   "source": [
    "torch.set_num_threads(8)\n",
    "sim=arcsim.get_sim()"
   ]
  },
  {
   "cell_type": "code",
   "execution_count": null,
   "metadata": {},
   "outputs": [],
   "source": [
    "g = reset_sim(sim)\n",
    "run_sim()\n"
   ]
  }
 ],
 "metadata": {
  "interpreter": {
   "hash": "b52b5869944e4494738924775bf79403d0975124a006472e9d3fb5adad6b0e6f"
  },
  "kernelspec": {
   "display_name": "Python 3.9.12 64-bit ('cloth-clone': conda)",
   "language": "python",
   "name": "python3"
  },
  "language_info": {
   "codemirror_mode": {
    "name": "ipython",
    "version": 3
   },
   "file_extension": ".py",
   "mimetype": "text/x-python",
   "name": "python",
   "nbconvert_exporter": "python",
   "pygments_lexer": "ipython3",
   "version": "3.9.12"
  },
  "orig_nbformat": 4
 },
 "nbformat": 4,
 "nbformat_minor": 2
}
